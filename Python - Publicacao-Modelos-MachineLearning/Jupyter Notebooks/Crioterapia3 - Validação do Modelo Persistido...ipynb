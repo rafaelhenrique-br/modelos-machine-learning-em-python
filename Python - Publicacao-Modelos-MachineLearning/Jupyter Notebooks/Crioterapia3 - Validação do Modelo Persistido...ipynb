{
 "cells": [
  {
   "cell_type": "code",
   "execution_count": 1,
   "metadata": {},
   "outputs": [],
   "source": [
    "# Gerando modelo de Machine Learning (classificação)\n",
    "# Domínio: Pessoas com doença de Verrugas e tratamento com Crioterapia.\n",
    "# Rafael Henrique Ribeiro Amancio"
   ]
  },
  {
   "cell_type": "code",
   "execution_count": 2,
   "metadata": {},
   "outputs": [],
   "source": [
    "#Conjunto de importacoes\n",
    "from sklearn.naive_bayes import MultinomialNB\n",
    "from sklearn.naive_bayes import GaussianNB\n",
    "from sklearn.externals import joblib"
   ]
  },
  {
   "cell_type": "code",
   "execution_count": 3,
   "metadata": {},
   "outputs": [],
   "source": [
    "modelo_NB = GaussianNB()\n",
    "#Carrega o modelo persistido no arquivo modelo_crioterapia_MNB.pkl\n",
    "modelo_NB = joblib.load('modelo_crioterapia_MNB.pkl')"
   ]
  },
  {
   "cell_type": "code",
   "execution_count": 6,
   "metadata": {},
   "outputs": [],
   "source": [
    "# Dados de teste retirados da Tabela 3 \n",
    "\n",
    "sexo = 2\n",
    "idade = 23\n",
    "nverrugas = 17\n",
    "tipo = 1\n",
    "area = 20\n"
   ]
  },
  {
   "cell_type": "code",
   "execution_count": 7,
   "metadata": {},
   "outputs": [
    {
     "name": "stdout",
     "output_type": "stream",
     "text": [
      "Resultado da Análise: [1]\n"
     ]
    }
   ],
   "source": [
    "res = modelo_NB.predict([[int(sexo), int(idade), int(nverrugas), int(tipo), int(area)]])\n",
    "print(\"Resultado da Análise: \" + str(res))"
   ]
  },
  {
   "cell_type": "code",
   "execution_count": null,
   "metadata": {},
   "outputs": [],
   "source": []
  }
 ],
 "metadata": {
  "kernelspec": {
   "display_name": "Python 3 (ipykernel)",
   "language": "python",
   "name": "python3"
  },
  "language_info": {
   "codemirror_mode": {
    "name": "ipython",
    "version": 3
   },
   "file_extension": ".py",
   "mimetype": "text/x-python",
   "name": "python",
   "nbconvert_exporter": "python",
   "pygments_lexer": "ipython3",
   "version": "3.11.5"
  }
 },
 "nbformat": 4,
 "nbformat_minor": 2
}
