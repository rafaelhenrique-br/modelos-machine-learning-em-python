{
 "cells": [
  {
   "cell_type": "code",
   "execution_count": 147,
   "metadata": {
    "collapsed": true
   },
   "outputs": [],
   "source": [
    "# Gerando Modelo de Machine Learning (Classificação) com Algoritmo Naive Bayes\n",
    "# Composição de Vendas Compras Centralizadas no Governo Federal"
   ]
  },
  {
   "cell_type": "code",
   "execution_count": 148,
   "metadata": {
    "collapsed": true
   },
   "outputs": [],
   "source": [
    "# Autor: Rafael Henrique Ribeiro Amancio\n",
    "# -*- coding: utf-8 -*-"
   ]
  },
  {
   "cell_type": "code",
   "execution_count": 149,
   "metadata": {},
   "outputs": [],
   "source": [
    "#Conjunto de importacoes\n",
    "import numpy as np\n",
    "import pandas as pd\n",
    "from sklearn.naive_bayes import MultinomialNB\n",
    "from sklearn.naive_bayes import GaussianNB\n",
    "from sklearn.metrics import accuracy_score\n",
    "from sklearn.cross_validation import train_test_split"
   ]
  },
  {
   "cell_type": "code",
   "execution_count": 150,
   "metadata": {},
   "outputs": [],
   "source": [
    "#Carrega o dataset com os dados para o treinamento e validacao\n",
    "dados_compras_treino = pd.read_csv(\"201807_CPGFComprasCentralizadasBaseTreinamento.csv\", encoding=\"utf-8\")"
   ]
  },
  {
   "cell_type": "code",
   "execution_count": 151,
   "metadata": {
    "scrolled": true
   },
   "outputs": [],
   "source": [
    "#Definição dos atributos que deverao ser treinados para gerar o modelo de classificacao\n",
    "data_treino = np.array(dados_compras_treino[['ANO', 'MESES', 'TRANSACAO', 'EMPRESA', 'TIPO_COMPRA', 'VALOR_TRANSACAO']])\n",
    "#Definição do atributo de classificacao\n",
    "data_classif = np.array(dados_compras_treino['CUSTO_COMPRASNUM'])"
   ]
  },
  {
   "cell_type": "code",
   "execution_count": 152,
   "metadata": {
    "collapsed": true
   },
   "outputs": [],
   "source": [
    "#Definição dos conjuntos de treinamento e validação\n",
    "x_treino, x_val, y_treino, y_val = train_test_split(data_treino, data_classif, test_size=0.10)"
   ]
  },
  {
   "cell_type": "code",
   "execution_count": 153,
   "metadata": {},
   "outputs": [
    {
     "name": "stdout",
     "output_type": "stream",
     "text": [
      "-----------------------\n",
      "Conjunto de Treinamento\n",
      "[[2018    7    1    2    1  601]\n",
      " [2018    7    1    2    1 1178]\n",
      " [2018    7    1    3    1  283]\n",
      " ...\n",
      " [2018    7    1    2    1  783]\n",
      " [2018    7    1    3    1  747]\n",
      " [2018    7    1    2    1 1856]]\n",
      "Conjunto de Validacao\n",
      "[[2018    7    1    3    1  342]\n",
      " [2018    7    1    2    1  677]\n",
      " [2018    7    1    2    1  609]\n",
      " [2018    7    1    2    1  600]\n",
      " [2018    7    1    2    1 1938]\n",
      " [2018    7    1    2    1  222]\n",
      " [2018    7    1    2    1  801]\n",
      " [2018    7    1    2    1 1353]\n",
      " [2018    7    1    2    1 1028]\n",
      " [2018    7    1    2    1  648]\n",
      " [2018    7    1    2    1  519]\n",
      " [2018    7    1    3    1 2031]\n",
      " [2018    7    1    2    1  941]\n",
      " [2018    7    1    3    1  283]\n",
      " [2018    7    1    4    1  476]\n",
      " [2018    7    1    2    1  558]\n",
      " [2018    7    1    2    1  283]\n",
      " [2018    7    1    3    1 1956]\n",
      " [2018    7    1    1    1  466]\n",
      " [2018    7    1    2    1  329]\n",
      " [2018    7    1    2    1  756]\n",
      " [2018    7    1    1    1  307]\n",
      " [2018    7    1    2    1  690]\n",
      " [2018    7    1    3    1  324]\n",
      " [2018    7    1    2    1  543]]\n",
      "-----------------------\n"
     ]
    }
   ],
   "source": [
    "#Apresentacao dos dados selecionados para o conjunto de treinamento e validacao\n",
    "print(\"-----------------------\")\n",
    "print(\"Conjunto de Treinamento\")\n",
    "print(x_treino)\n",
    "print(\"Conjunto de Validacao\")\n",
    "print(x_val)\n",
    "print(\"-----------------------\")"
   ]
  },
  {
   "cell_type": "code",
   "execution_count": 154,
   "metadata": {},
   "outputs": [
    {
     "data": {
      "text/plain": [
       "GaussianNB(priors=None)"
      ]
     },
     "execution_count": 154,
     "metadata": {},
     "output_type": "execute_result"
    }
   ],
   "source": [
    "#Treinamento do modelo com os dados atribuidos ao conjunto de treinamento\n",
    "modelo_NB = GaussianNB()\n",
    "modelo_NB.fit(x_treino, y_treino)"
   ]
  },
  {
   "cell_type": "code",
   "execution_count": 155,
   "metadata": {},
   "outputs": [
    {
     "name": "stdout",
     "output_type": "stream",
     "text": [
      "Predicao para o conjunto de treinamento\n",
      "Acuracia para o conjunto de treinamento\n",
      "0.9723502304147466\n",
      "-----------------------\n"
     ]
    }
   ],
   "source": [
    "#Predição e acurácia para o conjunto de treinamento\n",
    "print(\"Predicao para o conjunto de treinamento\")\n",
    "y_pred_treino = modelo_NB.predict(x_treino)\n",
    "print(\"Acuracia para o conjunto de treinamento\")\n",
    "print(accuracy_score(y_treino, y_pred_treino))\n",
    "print(\"-----------------------\")"
   ]
  },
  {
   "cell_type": "code",
   "execution_count": 156,
   "metadata": {},
   "outputs": [
    {
     "name": "stdout",
     "output_type": "stream",
     "text": [
      "Predicao para o conjunto de validacao\n",
      "Acuracia para o conjunto de validacao\n",
      "1.0\n",
      "-----------------------\n"
     ]
    }
   ],
   "source": [
    "#Predição e acurácia para o conjunto de validação\n",
    "print(\"Predicao para o conjunto de validacao\")\n",
    "y_pred_val = modelo_NB.predict(x_val)\n",
    "print(\"Acuracia para o conjunto de validacao\")\n",
    "print(accuracy_score(y_val, y_pred_val))\n",
    "print(\"-----------------------\")"
   ]
  },
  {
   "cell_type": "code",
   "execution_count": null,
   "metadata": {
    "collapsed": true
   },
   "outputs": [],
   "source": []
  },
  {
   "cell_type": "code",
   "execution_count": null,
   "metadata": {
    "collapsed": true
   },
   "outputs": [],
   "source": []
  }
 ],
 "metadata": {
  "kernelspec": {
   "display_name": "Python 3 (ipykernel)",
   "language": "python",
   "name": "python3"
  },
  "language_info": {
   "codemirror_mode": {
    "name": "ipython",
    "version": 3
   },
   "file_extension": ".py",
   "mimetype": "text/x-python",
   "name": "python",
   "nbconvert_exporter": "python",
   "pygments_lexer": "ipython3",
   "version": "3.11.5"
  }
 },
 "nbformat": 4,
 "nbformat_minor": 2
}
