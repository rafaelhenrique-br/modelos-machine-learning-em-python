{
 "cells": [
  {
   "cell_type": "code",
   "execution_count": 18,
   "metadata": {
    "collapsed": true
   },
   "outputs": [],
   "source": [
    "# Gerando Modelo de Machine Learning (Classificação) com Algoritmo Naive Bayes\n",
    "# Composição de Vendas Compras Centralizadas no Governo Federal"
   ]
  },
  {
   "cell_type": "code",
   "execution_count": 23,
   "metadata": {
    "collapsed": true
   },
   "outputs": [],
   "source": [
    "# Autor: Rafael Henrique Ribeiro Amancio\n",
    "# -*- coding: utf-8 -*-"
   ]
  },
  {
   "cell_type": "code",
   "execution_count": 24,
   "metadata": {},
   "outputs": [],
   "source": [
    "#Conjunto de importacoes\n",
    "import numpy as np\n",
    "import pandas as pd\n",
    "from sklearn.naive_bayes import MultinomialNB\n",
    "from sklearn.naive_bayes import GaussianNB\n",
    "from sklearn.metrics import accuracy_score\n",
    "from sklearn.cross_validation import train_test_split"
   ]
  },
  {
   "cell_type": "code",
   "execution_count": 25,
   "metadata": {
    "collapsed": true
   },
   "outputs": [],
   "source": [
    "#Carrega o dataset com os dados para o treinamento e validacao\n",
    "dados_compras_treino = pd.read_csv(\"dados_limitecredito.csv\", encoding=\"utf-8\")"
   ]
  },
  {
   "cell_type": "code",
   "execution_count": 26,
   "metadata": {
    "collapsed": true
   },
   "outputs": [],
   "source": [
    "#Definição dos atributos que deverao ser treinados para gerar o modelo de classificacao\n",
    "data_treino = np.array(dados_compras_treino[['historico_credito','divida', 'garantias', 'renda']])\n",
    "#Definição do atributo de classificacao\n",
    "data_classif = np.array(dados_compras_treino['Risco'])"
   ]
  },
  {
   "cell_type": "code",
   "execution_count": 27,
   "metadata": {
    "collapsed": true
   },
   "outputs": [],
   "source": [
    "#Definição dos conjuntos de treinamento e validação\n",
    "x_treino, x_val, y_treino, y_val = train_test_split(data_treino, data_classif, test_size=0.10)"
   ]
  },
  {
   "cell_type": "code",
   "execution_count": 28,
   "metadata": {},
   "outputs": [
    {
     "name": "stdout",
     "output_type": "stream",
     "text": [
      "-----------------------\n",
      "Conjunto de Treinamento\n",
      "[[    1     1     1 12000]\n",
      " [    2     1     2 40000]\n",
      " [    2     1     1 40000]\n",
      " [    1     2     1 10000]\n",
      " [    3     2     1  9000]\n",
      " [    2     1     1 38900]\n",
      " [    3     1     1 56000]\n",
      " [    3     2     1 56709]\n",
      " [    2     2     1 28000]\n",
      " [    3     2     1 20000]\n",
      " [    1     1     2 43222]\n",
      " [    1     2     1 23780]]\n",
      "Conjunto de Validacao\n",
      "[[    2     1     1 29000]\n",
      " [    3     2     2 45600]]\n",
      "-----------------------\n"
     ]
    }
   ],
   "source": [
    "#Apresentacao dos dados selecionados para o conjunto de treinamento e validacao\n",
    "print(\"-----------------------\")\n",
    "print(\"Conjunto de Treinamento\")\n",
    "print(x_treino)\n",
    "print(\"Conjunto de Validacao\")\n",
    "print(x_val)\n",
    "print(\"-----------------------\")"
   ]
  },
  {
   "cell_type": "code",
   "execution_count": 29,
   "metadata": {},
   "outputs": [
    {
     "data": {
      "text/plain": [
       "GaussianNB(priors=None)"
      ]
     },
     "execution_count": 29,
     "metadata": {},
     "output_type": "execute_result"
    }
   ],
   "source": [
    "#Treinamento do modelo com os dados atribuidos ao conjunto de treinamento\n",
    "modelo_NB = GaussianNB()\n",
    "modelo_NB.fit(x_treino, y_treino)"
   ]
  },
  {
   "cell_type": "code",
   "execution_count": 30,
   "metadata": {},
   "outputs": [
    {
     "name": "stdout",
     "output_type": "stream",
     "text": [
      "Predicao para o conjunto de treinamento\n",
      "Acuracia para o conjunto de treinamento\n",
      "0.8333333333333334\n",
      "-----------------------\n"
     ]
    }
   ],
   "source": [
    "#Predição e acurácia para o conjunto de treinamento\n",
    "print(\"Predicao para o conjunto de treinamento\")\n",
    "y_pred_treino = modelo_NB.predict(x_treino)\n",
    "print(\"Acuracia para o conjunto de treinamento\")\n",
    "print(accuracy_score(y_treino, y_pred_treino))\n",
    "print(\"-----------------------\")"
   ]
  },
  {
   "cell_type": "code",
   "execution_count": 31,
   "metadata": {},
   "outputs": [
    {
     "name": "stdout",
     "output_type": "stream",
     "text": [
      "Predicao para o conjunto de validacao\n",
      "Acuracia para o conjunto de validacao\n",
      "0.5\n",
      "-----------------------\n"
     ]
    }
   ],
   "source": [
    "#Predição e acurácia para o conjunto de validação\n",
    "print(\"Predicao para o conjunto de validacao\")\n",
    "y_pred_val = modelo_NB.predict(x_val)\n",
    "print(\"Acuracia para o conjunto de validacao\")\n",
    "print(accuracy_score(y_val, y_pred_val))\n",
    "print(\"-----------------------\")"
   ]
  },
  {
   "cell_type": "code",
   "execution_count": null,
   "metadata": {
    "collapsed": true
   },
   "outputs": [],
   "source": []
  }
 ],
 "metadata": {
  "kernelspec": {
   "display_name": "Python 3 (ipykernel)",
   "language": "python",
   "name": "python3"
  },
  "language_info": {
   "codemirror_mode": {
    "name": "ipython",
    "version": 3
   },
   "file_extension": ".py",
   "mimetype": "text/x-python",
   "name": "python",
   "nbconvert_exporter": "python",
   "pygments_lexer": "ipython3",
   "version": "3.11.5"
  }
 },
 "nbformat": 4,
 "nbformat_minor": 2
}
